{
  "nbformat": 4,
  "nbformat_minor": 0,
  "metadata": {
    "colab": {
      "provenance": [],
      "mount_file_id": "1HoZruRXvX6c3UCReX6BE56jKf6hWlRKn",
      "authorship_tag": "ABX9TyMP0S/kS4AUldgUp96wI06G",
      "include_colab_link": true
    },
    "kernelspec": {
      "name": "python3",
      "display_name": "Python 3"
    },
    "language_info": {
      "name": "python"
    }
  },
  "cells": [
    {
      "cell_type": "markdown",
      "metadata": {
        "id": "view-in-github",
        "colab_type": "text"
      },
      "source": [
        "<a href=\"https://colab.research.google.com/github/AndreaHernandez5072/CienciaDatos/blob/main/AprendiendoPandas.ipynb\" target=\"_parent\"><img src=\"https://colab.research.google.com/assets/colab-badge.svg\" alt=\"Open In Colab\"/></a>"
      ]
    },
    {
      "cell_type": "markdown",
      "source": [
        "DataFrame -> tablas\n",
        "\n",
        "Programa para analizar los precios de las casas"
      ],
      "metadata": {
        "id": "MJ9rU9E1dO-O"
      }
    },
    {
      "cell_type": "code",
      "execution_count": 26,
      "metadata": {
        "id": "-S4S6UpPc4w7"
      },
      "outputs": [],
      "source": [
        "import pandas as pd"
      ]
    },
    {
      "cell_type": "code",
      "source": [
        "df = pd.read_csv(\"train.csv\")\n"
      ],
      "metadata": {
        "id": "Z5dClxhid6Fi"
      },
      "execution_count": 29,
      "outputs": []
    }
  ]
}