{
  "nbformat": 4,
  "nbformat_minor": 0,
  "metadata": {
    "colab": {
      "provenance": [],
      "authorship_tag": "ABX9TyMysk4sL7CaJJsgganE3pZc",
      "include_colab_link": true
    },
    "kernelspec": {
      "name": "python3",
      "display_name": "Python 3"
    },
    "language_info": {
      "name": "python"
    }
  },
  "cells": [
    {
      "cell_type": "markdown",
      "metadata": {
        "id": "view-in-github",
        "colab_type": "text"
      },
      "source": [
        "<a href=\"https://colab.research.google.com/github/AndreaHernandez5072/CienciaDatos/blob/main/HousePriceEstimator.ipynb\" target=\"_parent\"><img src=\"https://colab.research.google.com/assets/colab-badge.svg\" alt=\"Open In Colab\"/></a>"
      ]
    },
    {
      "cell_type": "code",
      "execution_count": 8,
      "metadata": {
        "id": "2jSiNCMSZ8ew"
      },
      "outputs": [],
      "source": [
        "import numpy as np\n",
        "import pandas as pd\n",
        "import matplotlib.pyplot as plt"
      ]
    },
    {
      "cell_type": "code",
      "source": [
        "df = pd.read_csv(\"train.csv\")\n",
        "df.isnull().sum()"
      ],
      "metadata": {
        "colab": {
          "base_uri": "https://localhost:8080/"
        },
        "id": "bdWl8oDgani9",
        "outputId": "1fc5b922-e3f9-42c9-b724-ebd91109b081"
      },
      "execution_count": 7,
      "outputs": [
        {
          "output_type": "execute_result",
          "data": {
            "text/plain": [
              "id               0\n",
              "price            0\n",
              "bedrooms         0\n",
              "bathrooms        0\n",
              "sqft_living      0\n",
              "sqft_lot         0\n",
              "floors           0\n",
              "waterfront       0\n",
              "view             0\n",
              "condition        0\n",
              "grade            0\n",
              "sqft_above       0\n",
              "sqft_basement    0\n",
              "yr_built         0\n",
              "yr_renovated     0\n",
              "zipcode          0\n",
              "lat              0\n",
              "long             0\n",
              "sqft_living15    0\n",
              "sqft_lot15       0\n",
              "dtype: int64"
            ]
          },
          "metadata": {},
          "execution_count": 7
        }
      ]
    },
    {
      "cell_type": "code",
      "source": [
        "df.info()"
      ],
      "metadata": {
        "colab": {
          "base_uri": "https://localhost:8080/"
        },
        "id": "3oeUbbkGbSBA",
        "outputId": "e3cf3d36-678d-4eb0-d85f-8e8b44b57b45"
      },
      "execution_count": 24,
      "outputs": [
        {
          "output_type": "stream",
          "name": "stdout",
          "text": [
            "<class 'pandas.core.frame.DataFrame'>\n",
            "RangeIndex: 18371 entries, 0 to 18370\n",
            "Data columns (total 20 columns):\n",
            " #   Column         Non-Null Count  Dtype  \n",
            "---  ------         --------------  -----  \n",
            " 0   id             18371 non-null  int64  \n",
            " 1   price          18371 non-null  float64\n",
            " 2   bedrooms       18371 non-null  int64  \n",
            " 3   bathrooms      18371 non-null  float64\n",
            " 4   sqft_living    18371 non-null  int64  \n",
            " 5   sqft_lot       18371 non-null  int64  \n",
            " 6   floors         18371 non-null  float64\n",
            " 7   waterfront     18371 non-null  int64  \n",
            " 8   view           18371 non-null  object \n",
            " 9   condition      18371 non-null  object \n",
            " 10  grade          18371 non-null  int64  \n",
            " 11  sqft_above     18371 non-null  int64  \n",
            " 12  sqft_basement  18371 non-null  int64  \n",
            " 13  yr_built       18371 non-null  int64  \n",
            " 14  yr_renovated   18371 non-null  int64  \n",
            " 15  zipcode        18371 non-null  int64  \n",
            " 16  lat            18371 non-null  float64\n",
            " 17  long           18371 non-null  float64\n",
            " 18  sqft_living15  18371 non-null  int64  \n",
            " 19  sqft_lot15     18371 non-null  int64  \n",
            "dtypes: float64(5), int64(13), object(2)\n",
            "memory usage: 2.8+ MB\n"
          ]
        }
      ]
    },
    {
      "cell_type": "markdown",
      "source": [
        "Los datos a tratar son view y object.\n",
        "\n",
        "**View** tiene categorias bad (0), regular(1), good(2) y great(3).\n",
        "\n",
        "**condition** tiene categoria bad(0), regular(1), acceptable(2), good(3), excelent(5)\n",
        "\n"
      ],
      "metadata": {
        "id": "nWc5pgI2eMG9"
      }
    },
    {
      "cell_type": "code",
      "source": [
        "viewDescription = {\n",
        "    \"bad\":0,\n",
        "    \"regular\":1,\n",
        "    \"good\":2,\n",
        "    \"great\":3\n",
        "}\n",
        "\n",
        "conditionDescription ={\n",
        "    \"bad\":0,\n",
        "    \"regular\":1,\n",
        "    \"acceptable\":2,\n",
        "    \"good\":3,\n",
        "    \"excelent\":5\n",
        "}"
      ],
      "metadata": {
        "id": "VxQ1W-n-fEZv"
      },
      "execution_count": 22,
      "outputs": []
    }
  ]
}