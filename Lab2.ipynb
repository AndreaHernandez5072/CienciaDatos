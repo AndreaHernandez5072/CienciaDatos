{
  "nbformat": 4,
  "nbformat_minor": 0,
  "metadata": {
    "colab": {
      "provenance": [],
      "authorship_tag": "ABX9TyNQ0wHXVuO0I/eLNyp7/OJ3",
      "include_colab_link": true
    },
    "kernelspec": {
      "name": "python3",
      "display_name": "Python 3"
    },
    "language_info": {
      "name": "python"
    }
  },
  "cells": [
    {
      "cell_type": "markdown",
      "metadata": {
        "id": "view-in-github",
        "colab_type": "text"
      },
      "source": [
        "<a href=\"https://colab.research.google.com/github/AndreaHernandez5072/CienciaDatos/blob/main/Lab2.ipynb\" target=\"_parent\"><img src=\"https://colab.research.google.com/assets/colab-badge.svg\" alt=\"Open In Colab\"/></a>"
      ]
    },
    {
      "cell_type": "markdown",
      "source": [
        "**Recordatorio**: todos los archivos cargados en Colab, eliminan después de su tiempo de ejecución.\n",
        "\n",
        "\n",
        "---\n",
        "\n",
        "# Sobreviviendo al Titanic\n",
        "Andrea Marleny Hernández Contreras, 1203718"
      ],
      "metadata": {
        "id": "qkctB8UaIKJm"
      }
    },
    {
      "cell_type": "code",
      "execution_count": null,
      "metadata": {
        "id": "yizVhtsGHvS1"
      },
      "outputs": [],
      "source": [
        "import pandas as pd\n",
        "import numpy as np\n",
        "from matplotlib import pyplot as plt\n",
        "import seaborn as sb"
      ]
    },
    {
      "cell_type": "code",
      "source": [
        "ds = pd.read_csv('data_titanic_proyecto.csv')\n",
        "#Determinar las medidas del dataset\n",
        "ds.shape\n",
        "#Determinar el tipo de cada dato maneja\n",
        "ds.dtypes"
      ],
      "metadata": {
        "id": "kkjHVmh4H7SZ"
      },
      "execution_count": null,
      "outputs": []
    },
    {
      "cell_type": "markdown",
      "source": [
        "# 1. Encontrar valores faltantes"
      ],
      "metadata": {
        "id": "E_NVJJEtfG6W"
      }
    },
    {
      "cell_type": "code",
      "source": [
        "def findingmissingValues(dataset):\n",
        "  for column in dataset:\n",
        "    #En x almacena la cantidad de valores nulos que tiene esa columna\n",
        "    x = dataset[column].isna().sum()\n",
        "    #mostrar nombre de columna, cantidad de datos nulos en cada columna seguido del porcentaje que representa esos datos\n",
        "    print(f\"{column} : {str(x)} ( {(x/(ds.shape[0]))*100} %)\")\n",
        "\n",
        "\n",
        "def GeneralStatistics(dataset,columna):\n",
        "    #creo un vector\n",
        "    dimension = dataset[columna]\n",
        "    mean = np.mean(dimension)\n",
        "    median = np.median(dimension)\n",
        "    valmax = np.max(dimension)\n",
        "    valmin = np.min(dimension)\n",
        "    desvstd = np.std(dimension)\n",
        "    rango = np.ptp(dimension)\n",
        "    print(\"=\"*60)\n",
        "    print(\"Valores estadísticos\")\n",
        "    print(\"=\"*60)\n",
        "    print(\"dimension: \",dimension)\n",
        "    print(\"media: \", mean)\n",
        "    print(\"mediana: \", median)\n",
        "    print(\"Valor máximo: \",valmax)\n",
        "    print(\"Valor mínimo: \",valmin)\n",
        "    print(\"desviación estandar: \",desvstd)\n",
        "    print(\"rango\", rango)\n"
      ],
      "metadata": {
        "id": "RWuaYdeifN14"
      },
      "execution_count": null,
      "outputs": []
    }
  ]
}