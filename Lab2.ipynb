{
  "nbformat": 4,
  "nbformat_minor": 0,
  "metadata": {
    "colab": {
      "provenance": [],
      "authorship_tag": "ABX9TyOXyXZfCZXY4UAcTOtuc393",
      "include_colab_link": true
    },
    "kernelspec": {
      "name": "python3",
      "display_name": "Python 3"
    },
    "language_info": {
      "name": "python"
    }
  },
  "cells": [
    {
      "cell_type": "markdown",
      "metadata": {
        "id": "view-in-github",
        "colab_type": "text"
      },
      "source": [
        "<a href=\"https://colab.research.google.com/github/AndreaHernandez5072/CienciaDatos/blob/main/Lab2.ipynb\" target=\"_parent\"><img src=\"https://colab.research.google.com/assets/colab-badge.svg\" alt=\"Open In Colab\"/></a>"
      ]
    },
    {
      "cell_type": "markdown",
      "source": [
        "**Recordatorio**: todos los archivos cargados en Colab, eliminan después de su tiempo de ejecución.\n",
        "\n",
        "\n",
        "---\n",
        "\n",
        "# Sobreviviendo al Titanic\n",
        "Andrea Marleny Hernández Contreras, 1203718"
      ],
      "metadata": {
        "id": "qkctB8UaIKJm"
      }
    },
    {
      "cell_type": "code",
      "execution_count": null,
      "metadata": {
        "id": "yizVhtsGHvS1"
      },
      "outputs": [],
      "source": [
        "import pandas as pd\n",
        "import numpy as np\n",
        "from matplotlib import pyplot as plt\n",
        "import seaborn as sb"
      ]
    },
    {
      "cell_type": "code",
      "source": [
        "ds = pd.read_csv('data_titanic_proyecto.csv')\n",
        "#Determinar las medidas del dataset\n",
        "ds.shape\n",
        "#Determinar el tipo de cada dato maneja\n",
        "ds.dtypes"
      ],
      "metadata": {
        "id": "kkjHVmh4H7SZ"
      },
      "execution_count": null,
      "outputs": []
    },
    {
      "cell_type": "markdown",
      "source": [
        "# 1. Encontrar valores faltantes"
      ],
      "metadata": {
        "id": "E_NVJJEtfG6W"
      }
    },
    {
      "cell_type": "code",
      "source": [
        "def findingmissingValues(dataset):\n",
        "  for column in dataset:\n",
        "    #En x almacena la cantidad de valores nulos que tiene esa columna\n",
        "    x = dataset[column].isna().sum()\n",
        "    #mostrar nombre de columna, cantidad de datos nulos en cada columna seguido del porcentaje que representa esos datos\n",
        "    print(f\"{column} : {str(x)} ( {(x/(ds.shape[0]))*100} %)\")\n",
        "\n",
        "findingmissingValues(ds)"
      ],
      "metadata": {
        "colab": {
          "base_uri": "https://localhost:8080/"
        },
        "id": "RWuaYdeifN14",
        "outputId": "038d745d-622f-4e7f-b264-7cc9cc3061c5"
      },
      "execution_count": null,
      "outputs": [
        {
          "output_type": "stream",
          "name": "stdout",
          "text": [
            "PassengerId : 0 ( 0.0 %)\n",
            "Name : 0 ( 0.0 %)\n",
            "Age : 160 ( 20.408163265306122 %)\n",
            "SibSp : 0 ( 0.0 %)\n",
            "Parch : 0 ( 0.0 %)\n",
            "Ticket : 0 ( 0.0 %)\n",
            "Fare : 0 ( 0.0 %)\n",
            "Cabin : 601 ( 76.65816326530613 %)\n",
            "Embarked : 1 ( 0.12755102040816327 %)\n",
            "passenger_class : 0 ( 0.0 %)\n",
            "passenger_sex : 0 ( 0.0 %)\n",
            "passenger_survived : 0 ( 0.0 %)\n"
          ]
        }
      ]
    }
  ]
}