{
  "nbformat": 4,
  "nbformat_minor": 0,
  "metadata": {
    "colab": {
      "provenance": [],
      "authorship_tag": "ABX9TyP/PVWItc9LTVBTF5Ok1PIL",
      "include_colab_link": true
    },
    "kernelspec": {
      "name": "python3",
      "display_name": "Python 3"
    },
    "language_info": {
      "name": "python"
    }
  },
  "cells": [
    {
      "cell_type": "markdown",
      "metadata": {
        "id": "view-in-github",
        "colab_type": "text"
      },
      "source": [
        "<a href=\"https://colab.research.google.com/github/AndreaHernandez5072/CienciaDatos/blob/main/Lab2.ipynb\" target=\"_parent\"><img src=\"https://colab.research.google.com/assets/colab-badge.svg\" alt=\"Open In Colab\"/></a>"
      ]
    },
    {
      "cell_type": "markdown",
      "source": [
        "**Recordatorio**: todos los archivos cargados en Colab, eliminan después de su tiempo de ejecución.\n",
        "\n",
        "\n",
        "---\n",
        "\n",
        "# Sobreviviendo al Titanic\n",
        "Andrea Marleny Hernández Contreras, 1203718"
      ],
      "metadata": {
        "id": "qkctB8UaIKJm"
      }
    },
    {
      "cell_type": "code",
      "execution_count": null,
      "metadata": {
        "id": "yizVhtsGHvS1"
      },
      "outputs": [],
      "source": [
        "import pandas as pd\n",
        "import numpy as np\n",
        "from matplotlib import pyplot as plt\n",
        "import seaborn as sb"
      ]
    },
    {
      "cell_type": "code",
      "source": [
        "ds = pd.read_csv('data_titanic_proyecto.csv')\n",
        "#Determinar las medidas del dataset\n",
        "ds.shape\n",
        "#Determinar el tipo de cada dato maneja\n",
        "ds.dtypes"
      ],
      "metadata": {
        "id": "kkjHVmh4H7SZ"
      },
      "execution_count": null,
      "outputs": []
    },
    {
      "cell_type": "markdown",
      "source": [
        "# 1. Encontrar valores faltantes"
      ],
      "metadata": {
        "id": "E_NVJJEtfG6W"
      }
    },
    {
      "cell_type": "code",
      "source": [
        "def findingmissingValues(dataset):\n",
        "  for column in dataset:\n",
        "    #En x almacena la cantidad de valores nulos que tiene esa columna\n",
        "    x = dataset[column].isna().sum()\n",
        "    #mostrar nombre de columna, cantidad de datos nulos en cada columna seguido del porcentaje que representa esos datos\n",
        "    print(f\"{column} : {str(x)} ( {(x/(ds.shape[0]))*100} %)\")\n",
        "\n",
        "\n",
        "def GeneralStatistics(dataset,columna):\n",
        "    #creo un vector\n",
        "    dimension = dataset[columna]\n",
        "    mean = np.mean(dimension)\n",
        "    median = np.median(dimension)\n",
        "    valmax = np.max(dimension)\n",
        "    valmin = np.min(dimension)\n",
        "    desvstd = np.std(dimension)\n",
        "    rango = np.ptp(dimension)\n",
        "    print(\"=\"*60)\n",
        "    print(\"Valores estadísticos\")\n",
        "    print(\"=\"*60)\n",
        "    print(\"dimension: \",dimension)\n",
        "    print(\"media: \", mean)\n",
        "    print(\"mediana: \", median)\n",
        "    print(\"Valor máximo: \",valmax)\n",
        "    print(\"Valor mínimo: \",valmin)\n",
        "    print(\"desviación estandar: \",desvstd)\n",
        "    print(\"rango\", rango)\n"
      ],
      "metadata": {
        "id": "RWuaYdeifN14"
      },
      "execution_count": 28,
      "outputs": []
    },
    {
      "cell_type": "code",
      "source": [
        "#Agregar caracteristicas al dataset\n",
        "#Asimismo en datos aparece que iba solo, agrega 1\n",
        "ds[\"Familysize\"] = ds[\"SibSp\"] + ds[\"Parch\"] + 1\n",
        "#Crear un campo para ver si iba solo, inicializamos en cero\n",
        "ds[\"IsAlone\"] = 0\n",
        "#Agrega campos a IsAlone al usar función loc para traer las columnas y filas\n",
        "#Indicamos trae todos los datos donde FamilySize es 1 y superponelo en IsAlone el campo 1\n",
        "ds.loc[ds[\"Familysize\"]==1,\"IsAlone\"]=1\n",
        "ds"
      ],
      "metadata": {
        "id": "NvmuNxyKkOyj"
      },
      "execution_count": null,
      "outputs": []
    },
    {
      "cell_type": "code",
      "source": [
        "#Creando algo similar a lo anterior, en lugar, usar columnas, usa filas\n",
        "#Indico trae todas las filas donde la edad no sea igual a NA\n",
        "dsage=ds[ds[\"Age\"].notna()]\n",
        "GeneralStatistics(dsage,\"Age\")\n",
        "\n",
        "#Creando un diagrama de distribución de frecuencia, un pequeño histograma\n",
        "sb.set_theme()\n",
        "sb.displot(ds[\"Age\"],kde=True,color=\"green\")"
      ],
      "metadata": {
        "colab": {
          "base_uri": "https://localhost:8080/",
          "height": 883
        },
        "id": "t6-ORlM_mC32",
        "outputId": "2f8de15b-a1f5-4552-b206-f232727c45f1"
      },
      "execution_count": 34,
      "outputs": [
        {
          "output_type": "stream",
          "name": "stdout",
          "text": [
            "============================================================\n",
            "Valores estadísticos\n",
            "============================================================\n",
            "dimension:  0      22.0\n",
            "1      38.0\n",
            "2      26.0\n",
            "3      35.0\n",
            "4      35.0\n",
            "       ... \n",
            "777     5.0\n",
            "779    43.0\n",
            "780    13.0\n",
            "781    17.0\n",
            "782    29.0\n",
            "Name: Age, Length: 624, dtype: float64\n",
            "media:  29.94378205128205\n",
            "mediana:  28.0\n",
            "Valor máximo:  80.0\n",
            "Valor mínimo:  0.67\n",
            "desviación estandar:  14.550252061564517\n",
            "rango 79.33\n"
          ]
        },
        {
          "output_type": "execute_result",
          "data": {
            "text/plain": [
              "<seaborn.axisgrid.FacetGrid at 0x7c83644d79d0>"
            ]
          },
          "metadata": {},
          "execution_count": 34
        },
        {
          "output_type": "display_data",
          "data": {
            "text/plain": [
              "<Figure size 500x500 with 1 Axes>"
            ],
            "image/png": "[encoded data removed]"
          },
          "metadata": {}
        }
      ]
    }
  ]
}