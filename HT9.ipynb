{
  "nbformat": 4,
  "nbformat_minor": 0,
  "metadata": {
    "colab": {
      "provenance": [],
      "authorship_tag": "ABX9TyO3jnT+8vSmnQT634o0kVMb",
      "include_colab_link": true
    },
    "kernelspec": {
      "name": "python3",
      "display_name": "Python 3"
    },
    "language_info": {
      "name": "python"
    }
  },
  "cells": [
    {
      "cell_type": "markdown",
      "metadata": {
        "id": "view-in-github",
        "colab_type": "text"
      },
      "source": [
        "<a href=\"https://colab.research.google.com/github/AndreaHernandez5072/CienciaDatos/blob/main/HT9.ipynb\" target=\"_parent\"><img src=\"https://colab.research.google.com/assets/colab-badge.svg\" alt=\"Open In Colab\"/></a>"
      ]
    },
    {
      "cell_type": "markdown",
      "source": [
        "Andrea Marleny Hernández Contreras, 1203718"
      ],
      "metadata": {
        "id": "1fc5LTDyfqVU"
      }
    },
    {
      "cell_type": "code",
      "execution_count": 1,
      "metadata": {
        "id": "JO_DNY6PfJ6n"
      },
      "outputs": [],
      "source": [
        "import numpy as np\n",
        "import pandas as pd\n",
        "import seaborn as sns\n",
        "import matplotlib.pyplot as plt\n",
        "from sklearn.model_selection import train_test_split\n",
        "from sklearn.linear_model import LinearRegression\n",
        "from sklearn.metrics import classification_report,confusion_matrix\n",
        "from sklearn.preprocessing import PolynomialFeatures\n",
        "#svm -> suport virtual machine\n",
        "from sklearn.svm import SVC"
      ]
    },
    {
      "cell_type": "code",
      "source": [
        "df = pd.read_csv(\"orange.csv\")\n",
        "df.info()"
      ],
      "metadata": {
        "colab": {
          "base_uri": "https://localhost:8080/"
        },
        "id": "pNkO63P9f5D2",
        "outputId": "c2e077bd-afd5-49be-9c63-3eb1b0a881c6"
      },
      "execution_count": 3,
      "outputs": [
        {
          "output_type": "stream",
          "name": "stdout",
          "text": [
            "<class 'pandas.core.frame.DataFrame'>\n",
            "RangeIndex: 241 entries, 0 to 240\n",
            "Data columns (total 12 columns):\n",
            " #   Column       Non-Null Count  Dtype  \n",
            "---  ------       --------------  -----  \n",
            " 0   Unnamed: 0   241 non-null    int64  \n",
            " 1   Size         241 non-null    float64\n",
            " 2   Weight       241 non-null    int64  \n",
            " 3   Brix         241 non-null    float64\n",
            " 4   pH           241 non-null    float64\n",
            " 5   Softness     241 non-null    float64\n",
            " 6   HarvestTime  241 non-null    int64  \n",
            " 7   Ripeness     241 non-null    float64\n",
            " 8   Color        241 non-null    object \n",
            " 9   Variety      241 non-null    object \n",
            " 10  Blemishes    241 non-null    object \n",
            " 11  Quality      241 non-null    float64\n",
            "dtypes: float64(6), int64(3), object(3)\n",
            "memory usage: 22.7+ KB\n"
          ]
        }
      ]
    },
    {
      "cell_type": "code",
      "source": [
        "df.isna().sum()"
      ],
      "metadata": {
        "colab": {
          "base_uri": "https://localhost:8080/"
        },
        "id": "Owd9cwdvlYX8",
        "outputId": "5288bd00-1f64-40bc-e568-dd7210a60916"
      },
      "execution_count": 10,
      "outputs": [
        {
          "output_type": "execute_result",
          "data": {
            "text/plain": [
              "Unnamed: 0     0\n",
              "Size           0\n",
              "Weight         0\n",
              "Brix           0\n",
              "pH             0\n",
              "Softness       0\n",
              "HarvestTime    0\n",
              "Ripeness       0\n",
              "Color          0\n",
              "Variety        0\n",
              "Blemishes      0\n",
              "Quality        0\n",
              "dtype: int64"
            ]
          },
          "metadata": {},
          "execution_count": 10
        }
      ]
    },
    {
      "cell_type": "code",
      "source": [
        "print(\"Colors: \",df[\"Color\"].unique())\n",
        "print(\"\\nVariety:\",df[\"Variety\"].unique())\n",
        "print(\"\\nBlemishes\",df[\"Blemishes\"].unique())"
      ],
      "metadata": {
        "colab": {
          "base_uri": "https://localhost:8080/"
        },
        "id": "hLY2GHFQk0Fl",
        "outputId": "fcd64099-a3e1-4218-db60-b361092d2391"
      },
      "execution_count": 7,
      "outputs": [
        {
          "output_type": "stream",
          "name": "stdout",
          "text": [
            "Colors:  ['Orange' 'Deep Orange' 'Light Orange' 'Orange-Red' 'Yellow-Orange']\n",
            "\n",
            "Variety: ['Valencia' 'Navel' 'Cara Cara' 'Blood Orange' 'Hamlin' 'Tangelo (Hybrid)'\n",
            " 'Murcott (Hybrid)' 'Moro (Blood)' 'Jaffa' 'Clementine' 'Washington Navel'\n",
            " 'Star Ruby' 'Tangerine' 'Ambiance' 'California Valencia'\n",
            " 'Honey Tangerine' 'Navel (Late Season)' 'Clementine (Seedless)' 'Temple'\n",
            " 'Minneola (Hybrid)' 'Satsuma Mandarin' 'Midsweet (Hybrid)'\n",
            " 'Navel (Early Season)' 'Ortanique (Hybrid)']\n",
            "\n",
            "Blemishes ['N' 'Y (Minor)' 'Y (Sunburn)' 'Y (Mold Spot)' 'Y (Bruise)'\n",
            " 'Y (Split Skin)' 'Y (Sunburn Patch)' 'Y (Scars)'\n",
            " 'Y (Minor Insect Damage)' 'Y (Bruising)' 'N (Minor)' 'N (Split Skin)']\n"
          ]
        }
      ]
    }
  ]
}