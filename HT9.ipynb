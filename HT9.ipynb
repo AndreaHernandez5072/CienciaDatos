{
  "nbformat": 4,
  "nbformat_minor": 0,
  "metadata": {
    "colab": {
      "provenance": [],
      "authorship_tag": "ABX9TyOKmzwbGyAib5QSKMP6vRVe",
      "include_colab_link": true
    },
    "kernelspec": {
      "name": "python3",
      "display_name": "Python 3"
    },
    "language_info": {
      "name": "python"
    }
  },
  "cells": [
    {
      "cell_type": "markdown",
      "metadata": {
        "id": "view-in-github",
        "colab_type": "text"
      },
      "source": [
        "<a href=\"https://colab.research.google.com/github/AndreaHernandez5072/CienciaDatos/blob/main/HT9.ipynb\" target=\"_parent\"><img src=\"https://colab.research.google.com/assets/colab-badge.svg\" alt=\"Open In Colab\"/></a>"
      ]
    },
    {
      "cell_type": "markdown",
      "source": [
        "Andrea Marleny Hernández Contreras, 1203718"
      ],
      "metadata": {
        "id": "1fc5LTDyfqVU"
      }
    },
    {
      "cell_type": "code",
      "execution_count": null,
      "metadata": {
        "id": "JO_DNY6PfJ6n"
      },
      "outputs": [],
      "source": [
        "import numpy as np\n",
        "import pandas as pd\n",
        "import seaborn as sns\n",
        "import matplotlib.pyplot as plt\n",
        "from sklearn.model_selection import train_test_split\n",
        "from sklearn.linear_model import LinearRegression\n",
        "from sklearn.metrics import classification_report,confusion_matrix,r2_score,mean_squared_error,mean_absolute_error\n",
        "from sklearn.preprocessing import PolynomialFeatures\n",
        "#svm -> suport virtual machine\n",
        "from sklearn.svm import SVC,LinearSVC\n",
        "from sklearn.multiclass import OneVsOneClassifier,OneVsRestClassifier"
      ]
    },
    {
      "cell_type": "code",
      "source": [
        "df = pd.read_csv(\"orange.csv\")\n",
        "df.info()"
      ],
      "metadata": {
        "id": "pNkO63P9f5D2"
      },
      "execution_count": null,
      "outputs": []
    },
    {
      "cell_type": "code",
      "source": [
        "df.isna().sum()"
      ],
      "metadata": {
        "id": "Owd9cwdvlYX8"
      },
      "execution_count": null,
      "outputs": []
    },
    {
      "cell_type": "code",
      "source": [
        "print(\"Colors: \",df[\"Color\"].unique())\n",
        "print(\"\\nVariety:\",df[\"Variety\"].unique())\n",
        "print(\"\\nBlemishes\",df[\"Blemishes\"].unique())"
      ],
      "metadata": {
        "id": "hLY2GHFQk0Fl"
      },
      "execution_count": null,
      "outputs": []
    },
    {
      "cell_type": "code",
      "source": [
        "cleanup={\"Color\":{\"Orange\":0,\"Deep Orange\":1,\"Light Orange\":2,\"Orange-Red\":3,\"Yellow-Orange\":4},\n",
        "         \"Variety\":{\"Valencia\":0,\"Navel\":1,\"Cara Cara\":2,\"Blood Orange\":3,\"Hamlin\":4,\"Tangelo (Hybrid)\":5,\"Murcott (Hybrid)\":6,\"Moro (Blood)\":7,\"Jaffa\":8,\n",
        "                    \"Clementine\":9,\"Washington Navel\":10,\"Star Ruby\":11,\"Tangerine\":12,\"Ambiance\":13,\"California Valencia\":14,\"Honey Tangerine\":15,\"Navel (Late Season)\":16,\n",
        "                    \"Clementine (Seedless)\":17,\"Temple\":18,\"Minneola (Hybrid)\":19,\"Satsuma Mandarin\":20,\"Midsweet (Hybrid)\":21,\"Navel (Early Season)\":22,\"Ortanique (Hybrid)\":23},\n",
        "         \"Blemishes\":{\"N\":0,\"N (Minor)\":1,\"N (Split Skin)\":2,\"Y (Minor)\":3,\"Y (Sunburn)\":4,\"Y (Mold Spot)\":5,\"Y (Bruise)\":6,\"Y (Split Skin)\":7,\"Y (Sunburn Patch)\":8,\"Y (Scars)\":9,\n",
        "                      \"Y (Minor Insect Damage)\":10,\"Y (Bruising)\":11}}\n",
        "\n",
        "df = df.replace(cleanup)\n",
        "df.describe()"
      ],
      "metadata": {
        "id": "n-QEmFl1l-lw"
      },
      "execution_count": null,
      "outputs": []
    },
    {
      "cell_type": "code",
      "source": [
        "#Detección de Outliers\n",
        "def mostrarOutliers(dataset):\n",
        "  fig,axs= plt.subplots(12,1,dpi=300,figsize=(7,30))\n",
        "  i = 0\n",
        "  for col in dataset.columns:\n",
        "    axs[i].boxplot(df[col],vert=False)\n",
        "    axs[i].set_ylabel(col)\n",
        "    i+=1\n",
        "  plt.show()\n",
        "\n",
        "mostrarOutliers(df)"
      ],
      "metadata": {
        "id": "LjWq2bONlwvs"
      },
      "execution_count": null,
      "outputs": []
    },
    {
      "cell_type": "markdown",
      "source": [
        "Variables que necesitan tratamiento son: Quality"
      ],
      "metadata": {
        "id": "VVJgKq8x5tWg"
      }
    },
    {
      "cell_type": "code",
      "source": [
        "def TratamientoOutliers(col,dataset,cleandata):\n",
        "  #calcular los cuartiles\n",
        "  q1,q3=np.percentile(dataset[col],[25,75])\n",
        "  #Calcular iqr\n",
        "  iqr=q3-q1\n",
        "  limite_inferior=q1-(1.5*iqr)\n",
        "  limite_superior=q3+(1.5*iqr)\n",
        "  #Similar a un IF\n",
        "  dataset[col]=np.where(dataset[col]>limite_superior,limite_superior,np.where(dataset[col]<limite_inferior,limite_inferior,dataset[col]))"
      ],
      "metadata": {
        "id": "SHWhgCCx5q4Z"
      },
      "execution_count": null,
      "outputs": []
    },
    {
      "cell_type": "code",
      "source": [
        "clean_data=df\n",
        "TratamientoOutliers(\"Quality\",clean_data,clean_data)\n",
        "clean_data.describe()"
      ],
      "metadata": {
        "id": "kkoEiC0e54f0"
      },
      "execution_count": null,
      "outputs": []
    },
    {
      "cell_type": "code",
      "source": [
        "mostrarOutliers(df)"
      ],
      "metadata": {
        "id": "ThLYenYV6Lxz"
      },
      "execution_count": null,
      "outputs": []
    },
    {
      "cell_type": "code",
      "source": [
        "df.to_csv(\"out.csv\",index=False)"
      ],
      "metadata": {
        "id": "8nWZXamhEpyE"
      },
      "execution_count": null,
      "outputs": []
    },
    {
      "cell_type": "code",
      "source": [
        "def identificarCorrelacion(dataset):\n",
        "  f = dataset.corr()\n",
        "  mask=np.triu(np.ones_like(f))\n",
        "  #Ajustando el tamaño para que se vea mejor\n",
        "  plt.figure(figsize=[10,7])\n",
        "  sns.heatmap(f,annot=True,cmap=\"coolwarm\",mask=mask,fmt=\".2f\",square=True, linewidths=.5)\n",
        "  plt.title(\"Matriz de Correlación\")\n",
        "  plt.show()\n",
        "\n",
        "identificarCorrelacion(clean_data)"
      ],
      "metadata": {
        "id": "cI2rPWBd6XiF"
      },
      "execution_count": null,
      "outputs": []
    },
    {
      "cell_type": "code",
      "source": [
        "clean_data.plot.scatter(x=\"Brix\",y=\"Quality\")\n",
        "plt.show()"
      ],
      "metadata": {
        "id": "4OSeqkxpElOZ"
      },
      "execution_count": null,
      "outputs": []
    },
    {
      "cell_type": "markdown",
      "source": [
        "# Separando data en\n",
        "Usará Brix (nivel de dulzura), HarvestTime (días de cosecha), weight, softness y size"
      ],
      "metadata": {
        "id": "--A72FC66ihx"
      }
    },
    {
      "cell_type": "code",
      "source": [
        "data = clean_data\n",
        "\n",
        "x = data.drop([\"Quality\"],axis=1)\n",
        "y=data[\"Quality\"]\n",
        "\n",
        "x_train,x_test,y_train,y_test=train_test_split(x,y,random_state=101,test_size=0.2)"
      ],
      "metadata": {
        "id": "k7gdKWTdDkn9"
      },
      "execution_count": null,
      "outputs": []
    },
    {
      "cell_type": "markdown",
      "source": [
        "# Regresion lineal"
      ],
      "metadata": {
        "id": "_etldsbzE7HR"
      }
    },
    {
      "cell_type": "code",
      "source": [
        "modeloLR=LinearRegression().fit(x_train,y_train)\n",
        "y_hatLR=modeloLR.predict(x_test)"
      ],
      "metadata": {
        "id": "qL580vTaE9CM"
      },
      "execution_count": null,
      "outputs": []
    },
    {
      "cell_type": "code",
      "source": [
        "#Obtener la ecuación de la recta\n",
        "print(\"Ecuación de la recta: y = (\",modeloLR.coef_[0],\") x + (\",modeloLR.intercept_,\")\")\n",
        "#Evaluando el modelo\n",
        "print(confusion_matrix(round(y_test),y_hatLR.round()))\n",
        "print(\"\\n\")\n",
        "print(classification_report(y_test.round(),y_hatLR.round()))"
      ],
      "metadata": {
        "id": "Yw-1xIvTS7tc"
      },
      "execution_count": null,
      "outputs": []
    },
    {
      "cell_type": "markdown",
      "source": [
        "# SVM\n"
      ],
      "metadata": {
        "id": "3A0jBXKIE_vV"
      }
    },
    {
      "cell_type": "code",
      "source": [
        "svmmodel=SVC(kernel='linear',C=1000,gamma=\"auto\",random_state=0)\n",
        "#Entrenamiento del modelo\n",
        "svmmodel.fit(x_train.round(),y_train.round())\n",
        "#Proabndo las prediciones\n",
        "y_hat=svmmodel.predict(x_test)\n",
        "y_hat\n",
        "#Evaluar el modelo\n",
        "print(confusion_matrix(y_test.round(),y_hat.round()))\n",
        "print(\"\\n\")\n",
        "print(classification_report(y_test.round(),y_hat.round()))"
      ],
      "metadata": {
        "id": "b5NtC6MyFCZd"
      },
      "execution_count": null,
      "outputs": []
    },
    {
      "cell_type": "markdown",
      "source": [
        "# OnevsOneClassifier"
      ],
      "metadata": {
        "id": "d2mGNvSOFLJW"
      }
    },
    {
      "cell_type": "code",
      "source": [
        "svmodel=OneVsOneClassifier(LinearSVC(C=10,random_state=1)).fit(x_train.round(),y_train.round())\n",
        "y_hat=svmodel.predict(x_test)\n",
        "#Evaluar el modelo\n",
        "print(confusion_matrix(y_test.round(),y_hat.round()))\n",
        "print(\"\\n\")\n",
        "print(classification_report(y_test.round(),y_hat.round()))"
      ],
      "metadata": {
        "id": "aTXB0UhNFKj4"
      },
      "execution_count": null,
      "outputs": []
    },
    {
      "cell_type": "markdown",
      "source": [
        "# OneVsRestClassifier"
      ],
      "metadata": {
        "id": "L8lmTGHJNWuM"
      }
    },
    {
      "cell_type": "code",
      "source": [
        "svmodel=OneVsRestClassifier(LinearSVC(C=10,random_state=0)).fit(x_train.round(),y_train.round())\n",
        "y_hat=svmodel.predict(x_test)\n",
        "#Evaluar el modelo\n",
        "print(confusion_matrix(y_test.round(),y_hat.round()))\n",
        "print(\"\\n\")\n",
        "print(classification_report(y_test.round(),y_hat.round()))"
      ],
      "metadata": {
        "id": "2u7PQ1AKNaO8"
      },
      "execution_count": null,
      "outputs": []
    }
  ]
}